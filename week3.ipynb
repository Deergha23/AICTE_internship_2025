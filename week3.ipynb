{
  "nbformat": 4,
  "nbformat_minor": 0,
  "metadata": {
    "colab": {
      "provenance": [],
      "authorship_tag": "ABX9TyOUu+oTmxffXfWoyyWwtSwV",
      "include_colab_link": true
    },
    "kernelspec": {
      "name": "python3",
      "display_name": "Python 3"
    },
    "language_info": {
      "name": "python"
    }
  },
  "cells": [
    {
      "cell_type": "markdown",
      "metadata": {
        "id": "view-in-github",
        "colab_type": "text"
      },
      "source": [
        "<a href=\"https://colab.research.google.com/github/Deergha23/AICTE_internship_2025/blob/main/week3.ipynb\" target=\"_parent\"><img src=\"https://colab.research.google.com/assets/colab-badge.svg\" alt=\"Open In Colab\"/></a>"
      ]
    },
    {
      "cell_type": "code",
      "execution_count": 2,
      "metadata": {
        "id": "UnkWR7vx5PEt"
      },
      "outputs": [],
      "source": [
        "import os\n",
        "import numpy as np\n",
        "import tensorflow as tf\n",
        "from tensorflow.keras import layers, models, optimizers, callbacks\n",
        "from tensorflow.keras.applications import MobileNetV2\n",
        "from tensorflow.keras.preprocessing.image import ImageDataGenerator\n",
        "import gradio as gr\n",
        "from flask import Flask, request, jsonify\n",
        "import werkzeug.utils\n",
        "import zipfile\n",
        "import shutil\n",
        "from sklearn.model_selection import train_test_split"
      ]
    },
    {
      "cell_type": "code",
      "source": [
        "from google.colab import drive\n",
        "import zipfile\n",
        "import os\n",
        "import shutil\n",
        "from sklearn.model_selection import train_test_split\n",
        "\n",
        "def prepare_dataset():\n",
        "    \"\"\"Load dataset from Google Drive and create train/val/test splits\"\"\"\n",
        "    drive.mount('/content/drive')\n",
        "\n",
        "    # Path to your dataset zip file in Google Drive\n",
        "    zip_file_path = '/content/drive/My Drive/downloads/archive.zip'\n",
        "    extraction_path = '/content/dataset/'\n",
        "\n",
        "    # Extract the dataset\n",
        "    with zipfile.ZipFile(zip_file_path, 'r') as zip_ref:\n",
        "        zip_ref.extractall(extraction_path)\n",
        "\n",
        "    # Verify extraction\n",
        "    extracted_files = os.listdir(extraction_path)\n",
        "    print(\"Extracted files/folders:\", extracted_files)\n",
        "\n",
        "    # Check if dataset is already split\n",
        "    if 'train' in extracted_files and 'val' in extracted_files and 'test' in extracted_files:\n",
        "        train_data_path = os.path.join(extraction_path, 'train')\n",
        "        val_data_path = os.path.join(extraction_path, 'val')\n",
        "        test_data_path = os.path.join(extraction_path, 'test')\n",
        "        return train_data_path, val_data_path, test_data_path\n",
        "\n",
        "    # If no train/val/test split, create it automatically\n",
        "    print(\"No train/validation/test split found - creating one automatically...\")\n",
        "    all_data_path = os.path.join(extraction_path, 'TrashType_Image_Dataset')  # Adjusted to point to the correct folder\n",
        "    class_folders = [f for f in os.listdir(all_data_path) if os.path.isdir(os.path.join(all_data_path, f))]\n",
        "\n",
        "    # Create train, val, and test directories\n",
        "    train_path = os.path.join(extraction_path, 'train')\n",
        "    val_path = os.path.join(extraction_path, 'val')\n",
        "    test_path = os.path.join(extraction_path, 'test')  # New test path\n",
        "    os.makedirs(train_path, exist_ok=True)\n",
        "    os.makedirs(val_path, exist_ok=True)\n",
        "    os.makedirs(test_path, exist_ok=True)  # Create test directory\n",
        "\n",
        "    # Split each class into train/val/test (70/20/10)\n",
        "    for class_folder in class_folders:\n",
        "        # Create class directories in train, val, and test\n",
        "        os.makedirs(os.path.join(train_path, class_folder), exist_ok=True)\n",
        "        os.makedirs(os.path.join(val_path, class_folder), exist_ok=True)\n",
        "        os.makedirs(os.path.join(test_path, class_folder), exist_ok=True)\n",
        "\n",
        "        # Get all files in class folder\n",
        "        class_files = os.listdir(os.path.join(all_data_path, class_folder))\n",
        "        train_files, temp_files = train_test_split(class_files, test_size=0.3, random_state=42)  # 70% for training\n",
        "        val_files, test_files = train_test_split(temp_files, test_size=0.333, random_state=42)  # 20% for validation, 10% for testing\n",
        "\n",
        "        # Copy files to train, val, and test directories\n",
        "        for file in train_files:\n",
        "            src = os.path.join(all_data_path, class_folder, file)\n",
        "            dst = os.path.join(train_path, class_folder, file)\n",
        "            shutil.copy(src, dst)\n",
        "\n",
        "        for file in val_files:\n",
        "            src = os.path.join(all_data_path, class_folder, file)\n",
        "            dst = os.path.join(val_path, class_folder, file)\n",
        "            shutil.copy(src, dst)\n",
        "\n",
        "        for file in test_files:\n",
        "            src = os.path.join(all_data_path, class_folder, file)\n",
        "            dst = os.path.join(test_path, class_folder, file)\n",
        "            shutil.copy(src, dst)\n",
        "\n",
        "    print(f\"Created train/validation/test split in {train_path}, {val_path}, and {test_path}\")\n",
        "    return train_path, val_path, test_path\n"
      ],
      "metadata": {
        "id": "nMYoiO-k7n-q"
      },
      "execution_count": 7,
      "outputs": []
    },
    {
      "cell_type": "code",
      "source": [
        "train_path, val_path , test_path = prepare_dataset()\n",
        "print(f\"Training data: {train_path}\")\n",
        "print(f\"Validation data: {val_path}\")\n",
        "print(f\"Validation data: {test_path}\")\n"
      ],
      "metadata": {
        "colab": {
          "base_uri": "https://localhost:8080/"
        },
        "id": "eECXtufc9PrD",
        "outputId": "5b4532b7-4f9a-45c2-cc61-54192c7a2f27"
      },
      "execution_count": 9,
      "outputs": [
        {
          "output_type": "stream",
          "name": "stdout",
          "text": [
            "Drive already mounted at /content/drive; to attempt to forcibly remount, call drive.mount(\"/content/drive\", force_remount=True).\n",
            "Extracted files/folders: ['train', 'TrashType_Image_Dataset', 'val', 'test']\n",
            "Training data: /content/dataset/train\n",
            "Validation data: /content/dataset/val\n",
            "Validation data: /content/dataset/test\n"
          ]
        }
      ]
    },
    {
      "cell_type": "code",
      "source": [
        "\n",
        "import os\n",
        "import matplotlib.pyplot as plt\n",
        "import seaborn as sns\n",
        "from flask import Flask\n",
        "from tensorflow.keras.preprocessing.image import ImageDataGenerator\n",
        "from tensorflow.keras import layers, models, callbacks\n",
        "from tensorflow.keras.applications import MobileNetV2\n",
        "\n",
        "# Create Flask app\n",
        "app = Flask(__name__)\n",
        "IMG_SIZE = (224, 224)\n",
        "BATCH_SIZE = 32\n",
        "EPOCHS = 20\n",
        "LEARNING_RATE = 0.0001\n",
        "\n",
        "# ====================== MODEL TRAINING & EVALUATION ======================\n",
        "def build_and_train_model(train_data_path, val_data_path, test_data_path):\n",
        "    train_datagen = ImageDataGenerator(\n",
        "        rescale=1./255,\n",
        "        rotation_range=40,\n",
        "        width_shift_range=0.2,\n",
        "        height_shift_range=0.2,\n",
        "        shear_range=0.2,\n",
        "        zoom_range=0.2,\n",
        "        horizontal_flip=True,\n",
        "        fill_mode='nearest'\n",
        "    )\n",
        "\n",
        "    val_datagen = ImageDataGenerator(rescale=1./255)\n",
        "    test_datagen = ImageDataGenerator(rescale=1./255)\n",
        "\n",
        "    train_generator = train_datagen.flow_from_directory(\n",
        "        train_data_path,\n",
        "        target_size=(224, 224),\n",
        "        batch_size=BATCH_SIZE,\n",
        "        class_mode='categorical',\n",
        "        shuffle=True\n",
        "    )\n",
        "\n",
        "    val_generator = val_datagen.flow_from_directory(\n",
        "        val_data_path,\n",
        "        target_size=(224, 224),\n",
        "        batch_size=BATCH_SIZE,\n",
        "        class_mode='categorical',\n",
        "        shuffle=False\n",
        "    )\n",
        "\n",
        "    test_generator = test_datagen.flow_from_directory(\n",
        "        test_data_path,\n",
        "        target_size=(224, 224),\n",
        "        batch_size=BATCH_SIZE,\n",
        "        class_mode='categorical',\n",
        "        shuffle=False\n",
        "    )\n",
        "\n",
        "    class_names = list(train_generator.class_indices.keys())\n",
        "\n",
        "    # Visualize the distribution of datasets\n",
        "    visualize_data_distribution(train_generator, val_generator, test_generator)\n",
        "\n",
        "    # Model architecture\n",
        "    base_model = MobileNetV2(weights='imagenet', include_top=False, input_shape=(224, 224, 3))\n",
        "    base_model.trainable = False\n",
        "\n",
        "    inputs = layers.Input(shape=(224, 224, 3))\n",
        "    x = base_model(inputs)\n",
        "    x = layers.GlobalAveragePooling2D()(x)\n",
        "    x = layers.Dropout(0.5)(x)\n",
        "    x = layers.Dense(512, activation='relu')(x)\n",
        "    x = layers.Dropout(0.3)(x)\n",
        "    outputs = layers.Dense(len(class_names), activation='softmax')(x)\n",
        "    model = models.Model(inputs, outputs)\n",
        "\n",
        "    model.compile(optimizer='adam', loss='categorical_crossentropy', metrics=['accuracy'])\n",
        "\n",
        "    # Training callbacks\n",
        "    callbacks_list = [\n",
        "        callbacks.ModelCheckpoint('best_model.keras', save_best_only=True, monitor='val_accuracy'),\n",
        "        callbacks.EarlyStopping(monitor='val_accuracy', patience=10)\n",
        "    ]\n",
        "\n",
        "    # Training\n",
        "    history = model.fit(\n",
        "        train_generator,\n",
        "        steps_per_epoch=train_generator.samples // BATCH_SIZE,\n",
        "        validation_data=val_generator,\n",
        "        validation_steps=val_generator.samples // BATCH_SIZE,\n",
        "        epochs=EPOCHS,\n",
        "        callbacks=callbacks_list\n",
        "    )\n",
        "\n",
        "    # Evaluation on training and validation sets\n",
        "    train_loss, train_acc = model.evaluate(train_generator)\n",
        "    val_loss, val_acc = model.evaluate(val_generator)\n",
        "\n",
        "    print(\"\\nModel Performance:\")\n",
        "    print(f\"Training Accuracy: {train_acc*100:.2f}%\")\n",
        "    print(f\"Training Loss: {train_loss:.4f}\")\n",
        "    print(f\"Validation Accuracy: {val_acc*100:.2f}%\")\n",
        "    print(f\"Validation Loss: {val_loss:.4f}\")\n",
        "\n",
        "    model.save('garbage_classifier_final.keras')\n",
        "    with open('class_names.txt', 'w') as f:\n",
        "        f.write('\\n'.join(class_names))\n",
        "\n",
        "    return model, class_names, history\n",
        "\n",
        "def visualize_data_distribution(train_generator, val_generator, test_generator):\n",
        "    # Count the number of samples in each class for train, validation, and test datasets\n",
        "    train_counts = train_generator.class_indices\n",
        "    val_counts = val_generator.class_indices\n",
        "    test_counts = test_generator.class_indices\n",
        "\n",
        "    # Create a DataFrame for visualization\n",
        "    data = {\n",
        "        'Dataset': [],\n",
        "        'Class': [],\n",
        "        'Count': []\n",
        "    }\n",
        "\n",
        "    for class_name, index in train_counts.items():\n",
        "        data['Dataset'].append('Training')\n",
        "        data['Class'].append(class_name)\n",
        "        data['Count'].append(train_generator.samples // len(train_counts))\n",
        "\n",
        "    for class_name, index in val_counts.items():\n",
        "        data['Dataset'].append('Validation')\n",
        "        data['Class'].append(class_name)\n",
        "        data['Count'].append(val_generator.samples // len(val_counts))\n",
        "\n",
        "    for class_name, index in test_counts.items():\n",
        "        data['Dataset'].append('Test')\n",
        "        data['Class'].append(class_name)\n",
        "        data['Count'].append(test_generator.samples // len(test_counts))\n",
        "\n",
        "    # Convert to DataFrame\n",
        "    import pandas as pd\n",
        "    df = pd.DataFrame(data)\n",
        "\n",
        "    # Plot the distribution\n",
        "    plt.figure(figsize=(12, 6))\n",
        "    sns.barplot(x='Class', y='Count', hue='Dataset', data=df)\n",
        "    plt.title('Distribution of Training, Validation, and Test Datasets')\n",
        "    plt.xlabel('Class')\n",
        "    plt.ylabel('Count')\n",
        "    plt.legend(title='Dataset')\n",
        "    plt.xticks(rotation=45)\n",
        "    plt.tight_layout()\n",
        "    plt.show()\n",
        "\n",
        "\n",
        "\n",
        "\n"
      ],
      "metadata": {
        "id": "QdoVGQK49XFG"
      },
      "execution_count": 10,
      "outputs": []
    },
    {
      "cell_type": "code",
      "source": [
        "if __name__ == '__main__':\n",
        "    # Load and prepare datasets\n",
        "    train_path, val_path, test_path = prepare_dataset()  # Ensure prepare_dataset returns test_path\n",
        "    model, class_names, history = build_and_train_model(train_path, val_path, test_path)\n",
        "\n",
        "\n",
        "\n",
        "\n",
        "\n"
      ],
      "metadata": {
        "colab": {
          "base_uri": "https://localhost:8080/",
          "height": 1000
        },
        "id": "6lG9P42y-l-6",
        "outputId": "a4c0d2b1-3e84-40f5-9fae-5cfbc3e6e391"
      },
      "execution_count": 11,
      "outputs": [
        {
          "output_type": "stream",
          "name": "stdout",
          "text": [
            "Drive already mounted at /content/drive; to attempt to forcibly remount, call drive.mount(\"/content/drive\", force_remount=True).\n",
            "Extracted files/folders: ['train', 'TrashType_Image_Dataset', 'val', 'test']\n",
            "Found 2019 images belonging to 6 classes.\n",
            "Found 682 images belonging to 6 classes.\n",
            "Found 256 images belonging to 6 classes.\n"
          ]
        },
        {
          "output_type": "display_data",
          "data": {
            "text/plain": [
              "<Figure size 1200x600 with 1 Axes>"
            ],
            "image/png": "[encoded data removed]"
          },
          "metadata": {}
        },
        {
          "output_type": "stream",
          "name": "stdout",
          "text": [
            "Downloading data from https://storage.googleapis.com/tensorflow/keras-applications/mobilenet_v2/mobilenet_v2_weights_tf_dim_ordering_tf_kernels_1.0_224_no_top.h5\n",
            "\u001b[1m9406464/9406464\u001b[0m \u001b[32m━━━━━━━━━━━━━━━━━━━━\u001b[0m\u001b[37m\u001b[0m \u001b[1m0s\u001b[0m 0us/step\n"
          ]
        },
        {
          "output_type": "stream",
          "name": "stderr",
          "text": [
            "/usr/local/lib/python3.11/dist-packages/keras/src/trainers/data_adapters/py_dataset_adapter.py:121: UserWarning: Your `PyDataset` class should call `super().__init__(**kwargs)` in its constructor. `**kwargs` can include `workers`, `use_multiprocessing`, `max_queue_size`. Do not pass these arguments to `fit()`, as they will be ignored.\n",
            "  self._warn_if_super_not_called()\n"
          ]
        },
        {
          "output_type": "stream",
          "name": "stdout",
          "text": [
            "Epoch 1/20\n",
            "\u001b[1m63/63\u001b[0m \u001b[32m━━━━━━━━━━━━━━━━━━━━\u001b[0m\u001b[37m\u001b[0m \u001b[1m174s\u001b[0m 3s/step - accuracy: 0.4605 - loss: 1.4940 - val_accuracy: 0.7827 - val_loss: 0.5977\n",
            "Epoch 2/20\n",
            "\u001b[1m 1/63\u001b[0m \u001b[37m━━━━━━━━━━━━━━━━━━━━\u001b[0m \u001b[1m1:54\u001b[0m 2s/step - accuracy: 0.7188 - loss: 0.7612"
          ]
        },
        {
          "output_type": "stream",
          "name": "stderr",
          "text": [
            "/usr/local/lib/python3.11/dist-packages/keras/src/trainers/epoch_iterator.py:107: UserWarning: Your input ran out of data; interrupting training. Make sure that your dataset or generator can generate at least `steps_per_epoch * epochs` batches. You may need to use the `.repeat()` function when building your dataset.\n",
            "  self._interrupted_warning()\n"
          ]
        },
        {
          "output_type": "stream",
          "name": "stdout",
          "text": [
            "\b\b\b\b\b\b\b\b\b\b\b\b\b\b\b\b\b\b\b\b\b\b\b\b\b\b\b\b\b\b\b\b\b\b\b\b\b\b\b\b\b\b\b\b\b\b\b\b\b\b\b\b\b\b\b\b\b\b\b\b\b\b\b\b\b\b\b\b\b\b\b\b\b\r\u001b[1m63/63\u001b[0m \u001b[32m━━━━━━━━━━━━━━━━━━━━\u001b[0m\u001b[37m\u001b[0m \u001b[1m35s\u001b[0m 527ms/step - accuracy: 0.7188 - loss: 0.7612 - val_accuracy: 0.7798 - val_loss: 0.5915\n",
            "Epoch 3/20\n",
            "\u001b[1m63/63\u001b[0m \u001b[32m━━━━━━━━━━━━━━━━━━━━\u001b[0m\u001b[37m\u001b[0m \u001b[1m142s\u001b[0m 2s/step - accuracy: 0.7003 - loss: 0.8027 - val_accuracy: 0.7917 - val_loss: 0.5478\n",
            "Epoch 4/20\n",
            "\u001b[1m63/63\u001b[0m \u001b[32m━━━━━━━━━━━━━━━━━━━━\u001b[0m\u001b[37m\u001b[0m \u001b[1m29s\u001b[0m 444ms/step - accuracy: 0.6562 - loss: 1.0518 - val_accuracy: 0.8006 - val_loss: 0.5401\n",
            "Epoch 5/20\n",
            "\u001b[1m63/63\u001b[0m \u001b[32m━━━━━━━━━━━━━━━━━━━━\u001b[0m\u001b[37m\u001b[0m \u001b[1m142s\u001b[0m 2s/step - accuracy: 0.7069 - loss: 0.8051 - val_accuracy: 0.8080 - val_loss: 0.5298\n",
            "Epoch 6/20\n",
            "\u001b[1m63/63\u001b[0m \u001b[32m━━━━━━━━━━━━━━━━━━━━\u001b[0m\u001b[37m\u001b[0m \u001b[1m37s\u001b[0m 577ms/step - accuracy: 0.6250 - loss: 0.8465 - val_accuracy: 0.8185 - val_loss: 0.5336\n",
            "Epoch 7/20\n",
            "\u001b[1m63/63\u001b[0m \u001b[32m━━━━━━━━━━━━━━━━━━━━\u001b[0m\u001b[37m\u001b[0m \u001b[1m158s\u001b[0m 2s/step - accuracy: 0.7403 - loss: 0.6965 - val_accuracy: 0.8348 - val_loss: 0.4706\n",
            "Epoch 8/20\n",
            "\u001b[1m63/63\u001b[0m \u001b[32m━━━━━━━━━━━━━━━━━━━━\u001b[0m\u001b[37m\u001b[0m \u001b[1m40s\u001b[0m 624ms/step - accuracy: 0.5938 - loss: 0.7138 - val_accuracy: 0.8304 - val_loss: 0.4675\n",
            "Epoch 9/20\n",
            "\u001b[1m63/63\u001b[0m \u001b[32m━━━━━━━━━━━━━━━━━━━━\u001b[0m\u001b[37m\u001b[0m \u001b[1m143s\u001b[0m 2s/step - accuracy: 0.7524 - loss: 0.6293 - val_accuracy: 0.8378 - val_loss: 0.4493\n",
            "Epoch 10/20\n",
            "\u001b[1m63/63\u001b[0m \u001b[32m━━━━━━━━━━━━━━━━━━━━\u001b[0m\u001b[37m\u001b[0m \u001b[1m41s\u001b[0m 638ms/step - accuracy: 0.6875 - loss: 0.7740 - val_accuracy: 0.8512 - val_loss: 0.4471\n",
            "Epoch 11/20\n",
            "\u001b[1m63/63\u001b[0m \u001b[32m━━━━━━━━━━━━━━━━━━━━\u001b[0m\u001b[37m\u001b[0m \u001b[1m143s\u001b[0m 2s/step - accuracy: 0.7738 - loss: 0.6407 - val_accuracy: 0.8170 - val_loss: 0.4557\n",
            "Epoch 12/20\n",
            "\u001b[1m63/63\u001b[0m \u001b[32m━━━━━━━━━━━━━━━━━━━━\u001b[0m\u001b[37m\u001b[0m \u001b[1m29s\u001b[0m 450ms/step - accuracy: 0.7500 - loss: 0.6005 - val_accuracy: 0.8110 - val_loss: 0.4546\n",
            "Epoch 13/20\n",
            "\u001b[1m63/63\u001b[0m \u001b[32m━━━━━━━━━━━━━━━━━━━━\u001b[0m\u001b[37m\u001b[0m \u001b[1m171s\u001b[0m 2s/step - accuracy: 0.7670 - loss: 0.6337 - val_accuracy: 0.8274 - val_loss: 0.4507\n",
            "Epoch 14/20\n",
            "\u001b[1m63/63\u001b[0m \u001b[32m━━━━━━━━━━━━━━━━━━━━\u001b[0m\u001b[37m\u001b[0m \u001b[1m43s\u001b[0m 684ms/step - accuracy: 0.8125 - loss: 0.7017 - val_accuracy: 0.8259 - val_loss: 0.4501\n",
            "Epoch 15/20\n",
            "\u001b[1m63/63\u001b[0m \u001b[32m━━━━━━━━━━━━━━━━━━━━\u001b[0m\u001b[37m\u001b[0m \u001b[1m151s\u001b[0m 2s/step - accuracy: 0.7907 - loss: 0.5526 - val_accuracy: 0.8601 - val_loss: 0.3996\n",
            "Epoch 16/20\n",
            "\u001b[1m63/63\u001b[0m \u001b[32m━━━━━━━━━━━━━━━━━━━━\u001b[0m\u001b[37m\u001b[0m \u001b[1m41s\u001b[0m 649ms/step - accuracy: 0.7188 - loss: 0.5552 - val_accuracy: 0.8646 - val_loss: 0.3963\n",
            "Epoch 17/20\n",
            "\u001b[1m63/63\u001b[0m \u001b[32m━━━━━━━━━━━━━━━━━━━━\u001b[0m\u001b[37m\u001b[0m \u001b[1m141s\u001b[0m 2s/step - accuracy: 0.7835 - loss: 0.5704 - val_accuracy: 0.8408 - val_loss: 0.4144\n",
            "Epoch 18/20\n",
            "\u001b[1m63/63\u001b[0m \u001b[32m━━━━━━━━━━━━━━━━━━━━\u001b[0m\u001b[37m\u001b[0m \u001b[1m41s\u001b[0m 640ms/step - accuracy: 0.8125 - loss: 0.4121 - val_accuracy: 0.8423 - val_loss: 0.4150\n",
            "Epoch 19/20\n",
            "\u001b[1m63/63\u001b[0m \u001b[32m━━━━━━━━━━━━━━━━━━━━\u001b[0m\u001b[37m\u001b[0m \u001b[1m143s\u001b[0m 2s/step - accuracy: 0.7933 - loss: 0.5289 - val_accuracy: 0.8631 - val_loss: 0.4024\n",
            "Epoch 20/20\n",
            "\u001b[1m63/63\u001b[0m \u001b[32m━━━━━━━━━━━━━━━━━━━━\u001b[0m\u001b[37m\u001b[0m \u001b[1m41s\u001b[0m 644ms/step - accuracy: 0.7188 - loss: 0.5738 - val_accuracy: 0.8586 - val_loss: 0.4057\n",
            "\u001b[1m64/64\u001b[0m \u001b[32m━━━━━━━━━━━━━━━━━━━━\u001b[0m\u001b[37m\u001b[0m \u001b[1m106s\u001b[0m 2s/step - accuracy: 0.8671 - loss: 0.3862\n",
            "\u001b[1m22/22\u001b[0m \u001b[32m━━━━━━━━━━━━━━━━━━━━\u001b[0m\u001b[37m\u001b[0m \u001b[1m29s\u001b[0m 1s/step - accuracy: 0.8853 - loss: 0.3546\n",
            "\n",
            "Model Performance:\n",
            "Training Accuracy: 87.87%\n",
            "Training Loss: 0.3691\n",
            "Validation Accuracy: 85.19%\n",
            "Validation Loss: 0.4225\n"
          ]
        }
      ]
    },
    {
      "cell_type": "code",
      "source": [
        "import gradio as gr\n",
        "import numpy as np\n",
        "from tensorflow.keras.models import load_model\n",
        "from tensorflow.keras.preprocessing import image\n",
        "from PIL import Image  # Import PIL for image handling\n",
        "\n",
        "# Load the trained model and class names\n",
        "model = load_model('garbage_classifier_final.keras')\n",
        "with open('class_names.txt', 'r') as f:\n",
        "    class_names = [line.strip() for line in f]\n",
        "\n",
        "def preprocess_image(img):\n",
        "    \"\"\"Preprocess the uploaded image for the model\"\"\"\n",
        "    img = img.resize((224, 224))  # Resize to match model input\n",
        "    img_array = image.img_to_array(img) / 255.0  # Normalize\n",
        "    return np.expand_dims(img_array, axis=0)  # Add batch dimension\n",
        "\n",
        "def predict(image):\n",
        "    \"\"\"Make prediction on the input image\"\"\"\n",
        "    processed_img = preprocess_image(image)\n",
        "    predictions = model.predict(processed_img)\n",
        "    predicted_class = class_names[np.argmax(predictions)]\n",
        "    confidence = float(np.max(predictions)) * 100  # Convert to percentage\n",
        "\n",
        "    # Return a dictionary for better display\n",
        "    return {class_names[i]: float(predictions[0][i]) * 100\n",
        "            for i in range(len(class_names))}\n",
        "\n",
        "# Create Gradio interface with updated syntax\n",
        "iface = gr.Interface(\n",
        "    fn=predict,\n",
        "    inputs=gr.Image(type=\"pil\", label=\"Upload Garbage Image\"),\n",
        "    outputs=gr.Label(label=\"Classification Results\"),\n",
        "    title=\"♻️ Garbage Classification AI 🚮\",\n",
        "    description=\"Upload an image of garbage to classify it into one of these categories: \" + \", \".join(class_names),\n",
        "    examples=[\n",
        "        [\"plastic_bottle.jpg\"],\n",
        "        [\"cardboard_box.jpg\"],\n",
        "    ],\n",
        "    allow_flagging=\"never\"\n",
        ")\n",
        "\n",
        "# Launch the interface\n",
        "if __name__ == \"__main__\":\n",
        "    iface.launch(share=True)  # share=True generates a public link\n",
        "\n"
      ],
      "metadata": {
        "colab": {
          "base_uri": "https://localhost:8080/",
          "height": 646
        },
        "id": "eBCK6PljJ3cj",
        "outputId": "3c110e18-e822-4edb-d94f-81be7fa5b281"
      },
      "execution_count": 12,
      "outputs": [
        {
          "output_type": "stream",
          "name": "stderr",
          "text": [
            "/usr/local/lib/python3.11/dist-packages/gradio/interface.py:416: UserWarning: The `allow_flagging` parameter in `Interface` is deprecated.Use `flagging_mode` instead.\n",
            "  warnings.warn(\n"
          ]
        },
        {
          "output_type": "stream",
          "name": "stdout",
          "text": [
            "Colab notebook detected. To show errors in colab notebook, set debug=True in launch()\n",
            "* Running on public URL: https://403372c6bf00aee14d.gradio.live\n",
            "\n",
            "This share link expires in 1 week. For free permanent hosting and GPU upgrades, run `gradio deploy` from the terminal in the working directory to deploy to Hugging Face Spaces (https://huggingface.co/spaces)\n"
          ]
        },
        {
          "output_type": "display_data",
          "data": {
            "text/plain": [
              "<IPython.core.display.HTML object>"
            ],
            "text/html": [
              "<div><iframe src=\"https://403372c6bf00aee14d.gradio.live\" width=\"100%\" height=\"500\" allow=\"autoplay; camera; microphone; clipboard-read; clipboard-write;\" frameborder=\"0\" allowfullscreen></iframe></div>"
            ]
          },
          "metadata": {}
        }
      ]
    },
    {
      "cell_type": "code",
      "source": [
        "# 📝 Summary (optional but useful)\n",
        "model.summary()"
      ],
      "metadata": {
        "id": "li_TsUPgSqjI"
      },
      "execution_count": null,
      "outputs": []
    },
    {
      "cell_type": "code",
      "source": [],
      "metadata": {
        "id": "UABe8vtXYBOJ"
      },
      "execution_count": null,
      "outputs": []
    }
  ]
}