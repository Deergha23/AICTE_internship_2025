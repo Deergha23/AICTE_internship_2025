{
  "nbformat": 4,
  "nbformat_minor": 0,
  "metadata": {
    "colab": {
      "provenance": [],
      "authorship_tag": "ABX9TyOUu+oTmxffXfWoyyWwtSwV",
      "include_colab_link": true
    },
    "kernelspec": {
      "name": "python3",
      "display_name": "Python 3"
    },
    "language_info": {
      "name": "python"
    }
  },
  "cells": [
    {
      "cell_type": "markdown",
      "metadata": {
        "id": "view-in-github",
        "colab_type": "text"
      },
      "source": [
        "<a href=\"https://colab.research.google.com/github/Deergha23/AICTE_internship_2025/blob/main/week3.ipynb\" target=\"_parent\"><img src=\"https://colab.research.google.com/assets/colab-badge.svg\" alt=\"Open In Colab\"/></a>"
      ]
    },
    {
      "cell_type": "code",
      "execution_count": 6,
      "metadata": {
        "id": "UnkWR7vx5PEt"
      },
      "outputs": [],
      "source": [
        "import os\n",
        "import numpy as np\n",
        "import tensorflow as tf\n",
        "from tensorflow.keras import layers, models, optimizers, callbacks\n",
        "from tensorflow.keras.applications import MobileNetV2\n",
        "from tensorflow.keras.preprocessing.image import ImageDataGenerator\n",
        "import gradio as gr\n",
        "from flask import Flask, request, jsonify\n",
        "import werkzeug.utils\n",
        "import zipfile\n",
        "import shutil\n",
        "from sklearn.model_selection import train_test_split"
      ]
    },
    {
      "cell_type": "code",
      "source": [
        "from google.colab import drive\n",
        "import zipfile\n",
        "import os\n",
        "import shutil\n",
        "from sklearn.model_selection import train_test_split\n",
        "\n",
        "def prepare_dataset():\n",
        "    \"\"\"Load dataset from Google Drive and create train/val/test splits\"\"\"\n",
        "    drive.mount('/content/drive')\n",
        "\n",
        "    # Path to your dataset zip file in Google Drive\n",
        "    zip_file_path = '/content/drive/My Drive/downloads/archive.zip'\n",
        "    extraction_path = '/content/dataset/'\n",
        "\n",
        "    # Extract the dataset\n",
        "    with zipfile.ZipFile(zip_file_path, 'r') as zip_ref:\n",
        "        zip_ref.extractall(extraction_path)\n",
        "\n",
        "    # Verify extraction\n",
        "    extracted_files = os.listdir(extraction_path)\n",
        "    print(\"Extracted files/folders:\", extracted_files)\n",
        "\n",
        "    # Check if dataset is already split\n",
        "    if 'train' in extracted_files and 'val' in extracted_files and 'test' in extracted_files:\n",
        "        train_data_path = os.path.join(extraction_path, 'train')\n",
        "        val_data_path = os.path.join(extraction_path, 'val')\n",
        "        test_data_path = os.path.join(extraction_path, 'test')\n",
        "        return train_data_path, val_data_path, test_data_path\n",
        "\n",
        "    # If no train/val/test split, create it automatically\n",
        "    print(\"No train/validation/test split found - creating one automatically...\")\n",
        "    all_data_path = os.path.join(extraction_path, 'TrashType_Image_Dataset')  # Adjusted to point to the correct folder\n",
        "    class_folders = [f for f in os.listdir(all_data_path) if os.path.isdir(os.path.join(all_data_path, f))]\n",
        "\n",
        "    # Create train, val, and test directories\n",
        "    train_path = os.path.join(extraction_path, 'train')\n",
        "    val_path = os.path.join(extraction_path, 'val')\n",
        "    test_path = os.path.join(extraction_path, 'test')  # New test path\n",
        "    os.makedirs(train_path, exist_ok=True)\n",
        "    os.makedirs(val_path, exist_ok=True)\n",
        "    os.makedirs(test_path, exist_ok=True)  # Create test directory\n",
        "\n",
        "    # Split each class into train/val/test (70/20/10)\n",
        "    for class_folder in class_folders:\n",
        "        # Create class directories in train, val, and test\n",
        "        os.makedirs(os.path.join(train_path, class_folder), exist_ok=True)\n",
        "        os.makedirs(os.path.join(val_path, class_folder), exist_ok=True)\n",
        "        os.makedirs(os.path.join(test_path, class_folder), exist_ok=True)\n",
        "\n",
        "        # Get all files in class folder\n",
        "        class_files = os.listdir(os.path.join(all_data_path, class_folder))\n",
        "        train_files, temp_files = train_test_split(class_files, test_size=0.3, random_state=42)  # 70% for training\n",
        "        val_files, test_files = train_test_split(temp_files, test_size=0.333, random_state=42)  # 20% for validation, 10% for testing\n",
        "\n",
        "        # Copy files to train, val, and test directories\n",
        "        for file in train_files:\n",
        "            src = os.path.join(all_data_path, class_folder, file)\n",
        "            dst = os.path.join(train_path, class_folder, file)\n",
        "            shutil.copy(src, dst)\n",
        "\n",
        "        for file in val_files:\n",
        "            src = os.path.join(all_data_path, class_folder, file)\n",
        "            dst = os.path.join(val_path, class_folder, file)\n",
        "            shutil.copy(src, dst)\n",
        "\n",
        "        for file in test_files:\n",
        "            src = os.path.join(all_data_path, class_folder, file)\n",
        "            dst = os.path.join(test_path, class_folder, file)\n",
        "            shutil.copy(src, dst)\n",
        "\n",
        "    print(f\"Created train/validation/test split in {train_path}, {val_path}, and {test_path}\")\n",
        "    return train_path, val_path, test_path\n"
      ],
      "metadata": {
        "id": "nMYoiO-k7n-q"
      },
      "execution_count": 7,
      "outputs": []
    },
    {
      "cell_type": "code",
      "source": [
        "train_path, val_path , test_path = prepare_dataset()\n",
        "print(f\"Training data: {train_path}\")\n",
        "print(f\"Validation data: {val_path}\")\n",
        "print(f\"Validation data: {test_path}\")\n"
      ],
      "metadata": {
        "colab": {
          "base_uri": "https://localhost:8080/"
        },
        "id": "eECXtufc9PrD",
        "outputId": "10c2645c-f32f-4cda-e1b0-5085e98c23e2"
      },
      "execution_count": 8,
      "outputs": [
        {
          "output_type": "stream",
          "name": "stdout",
          "text": [
            "Drive already mounted at /content/drive; to attempt to forcibly remount, call drive.mount(\"/content/drive\", force_remount=True).\n",
            "Extracted files/folders: ['train', 'TrashType_Image_Dataset', 'val', 'test']\n",
            "Training data: /content/dataset/train\n",
            "Validation data: /content/dataset/val\n",
            "Validation data: /content/dataset/test\n"
          ]
        }
      ]
    },
    {
      "cell_type": "code",
      "source": [
        "\n",
        "import os\n",
        "import matplotlib.pyplot as plt\n",
        "import seaborn as sns\n",
        "from flask import Flask\n",
        "from tensorflow.keras.preprocessing.image import ImageDataGenerator\n",
        "from tensorflow.keras import layers, models, callbacks\n",
        "from tensorflow.keras.applications import MobileNetV2\n",
        "\n",
        "# Create Flask app\n",
        "app = Flask(__name__)\n",
        "IMG_SIZE = (224, 224)\n",
        "BATCH_SIZE = 32\n",
        "EPOCHS = 20\n",
        "LEARNING_RATE = 0.0001\n",
        "\n",
        "# ====================== MODEL TRAINING & EVALUATION ======================\n",
        "def build_and_train_model(train_data_path, val_data_path, test_data_path):\n",
        "    train_datagen = ImageDataGenerator(\n",
        "        rescale=1./255,\n",
        "        rotation_range=40,\n",
        "        width_shift_range=0.2,\n",
        "        height_shift_range=0.2,\n",
        "        shear_range=0.2,\n",
        "        zoom_range=0.2,\n",
        "        horizontal_flip=True,\n",
        "        fill_mode='nearest'\n",
        "    )\n",
        "\n",
        "    val_datagen = ImageDataGenerator(rescale=1./255)\n",
        "    test_datagen = ImageDataGenerator(rescale=1./255)\n",
        "\n",
        "    train_generator = train_datagen.flow_from_directory(\n",
        "        train_data_path,\n",
        "        target_size=(224, 224),\n",
        "        batch_size=BATCH_SIZE,\n",
        "        class_mode='categorical',\n",
        "        shuffle=True\n",
        "    )\n",
        "\n",
        "    val_generator = val_datagen.flow_from_directory(\n",
        "        val_data_path,\n",
        "        target_size=(224, 224),\n",
        "        batch_size=BATCH_SIZE,\n",
        "        class_mode='categorical',\n",
        "        shuffle=False\n",
        "    )\n",
        "\n",
        "    test_generator = test_datagen.flow_from_directory(\n",
        "        test_data_path,\n",
        "        target_size=(224, 224),\n",
        "        batch_size=BATCH_SIZE,\n",
        "        class_mode='categorical',\n",
        "        shuffle=False\n",
        "    )\n",
        "\n",
        "    class_names = list(train_generator.class_indices.keys())\n",
        "\n",
        "    # Visualize the distribution of datasets\n",
        "    visualize_data_distribution(train_generator, val_generator, test_generator)\n",
        "\n",
        "    # Model architecture\n",
        "    base_model = MobileNetV2(weights='imagenet', include_top=False, input_shape=(224, 224, 3))\n",
        "    base_model.trainable = False\n",
        "\n",
        "    inputs = layers.Input(shape=(224, 224, 3))\n",
        "    x = base_model(inputs)\n",
        "    x = layers.GlobalAveragePooling2D()(x)\n",
        "    x = layers.Dropout(0.5)(x)\n",
        "    x = layers.Dense(512, activation='relu')(x)\n",
        "    x = layers.Dropout(0.3)(x)\n",
        "    outputs = layers.Dense(len(class_names), activation='softmax')(x)\n",
        "    model = models.Model(inputs, outputs)\n",
        "\n",
        "    model.compile(optimizer='adam', loss='categorical_crossentropy', metrics=['accuracy'])\n",
        "\n",
        "    # Training callbacks\n",
        "    callbacks_list = [\n",
        "        callbacks.ModelCheckpoint('best_model.keras', save_best_only=True, monitor='val_accuracy'),\n",
        "        callbacks.EarlyStopping(monitor='val_accuracy', patience=10)\n",
        "    ]\n",
        "\n",
        "    # Training\n",
        "    history = model.fit(\n",
        "        train_generator,\n",
        "        steps_per_epoch=train_generator.samples // BATCH_SIZE,\n",
        "        validation_data=val_generator,\n",
        "        validation_steps=val_generator.samples // BATCH_SIZE,\n",
        "        epochs=EPOCHS,\n",
        "        callbacks=callbacks_list\n",
        "    )\n",
        "\n",
        "    # Evaluation on training and validation sets\n",
        "    train_loss, train_acc = model.evaluate(train_generator)\n",
        "    val_loss, val_acc = model.evaluate(val_generator)\n",
        "\n",
        "    print(\"\\nModel Performance:\")\n",
        "    print(f\"Training Accuracy: {train_acc*100:.2f}%\")\n",
        "    print(f\"Training Loss: {train_loss:.4f}\")\n",
        "    print(f\"Validation Accuracy: {val_acc*100:.2f}%\")\n",
        "    print(f\"Validation Loss: {val_loss:.4f}\")\n",
        "\n",
        "    model.save('garbage_classifier_final.keras')\n",
        "    with open('class_names.txt', 'w') as f:\n",
        "        f.write('\\n'.join(class_names))\n",
        "\n",
        "    return model, class_names, history\n",
        "\n",
        "def visualize_data_distribution(train_generator, val_generator, test_generator):\n",
        "    # Count the number of samples in each class for train, validation, and test datasets\n",
        "    train_counts = train_generator.class_indices\n",
        "    val_counts = val_generator.class_indices\n",
        "    test_counts = test_generator.class_indices\n",
        "\n",
        "    # Create a DataFrame for visualization\n",
        "    data = {\n",
        "        'Dataset': [],\n",
        "        'Class': [],\n",
        "        'Count': []\n",
        "    }\n",
        "\n",
        "    for class_name, index in train_counts.items():\n",
        "        data['Dataset'].append('Training')\n",
        "        data['Class'].append(class_name)\n",
        "        data['Count'].append(train_generator.samples // len(train_counts))\n",
        "\n",
        "    for class_name, index in val_counts.items():\n",
        "        data['Dataset'].append('Validation')\n",
        "        data['Class'].append(class_name)\n",
        "        data['Count'].append(val_generator.samples // len(val_counts))\n",
        "\n",
        "    for class_name, index in test_counts.items():\n",
        "        data['Dataset'].append('Test')\n",
        "        data['Class'].append(class_name)\n",
        "        data['Count'].append(test_generator.samples // len(test_counts))\n",
        "\n",
        "    # Convert to DataFrame\n",
        "    import pandas as pd\n",
        "    df = pd.DataFrame(data)\n",
        "\n",
        "    # Plot the distribution\n",
        "    plt.figure(figsize=(12, 6))\n",
        "    sns.barplot(x='Class', y='Count', hue='Dataset', data=df)\n",
        "    plt.title('Distribution of Training, Validation, and Test Datasets')\n",
        "    plt.xlabel('Class')\n",
        "    plt.ylabel('Count')\n",
        "    plt.legend(title='Dataset')\n",
        "    plt.xticks(rotation=45)\n",
        "    plt.tight_layout()\n",
        "    plt.show()\n",
        "\n",
        "\n",
        "\n",
        "\n"
      ],
      "metadata": {
        "id": "QdoVGQK49XFG"
      },
      "execution_count": 9,
      "outputs": []
    },
    {
      "cell_type": "code",
      "source": [
        "if __name__ == '__main__':\n",
        "    # Load and prepare datasets\n",
        "    train_path, val_path, test_path = prepare_dataset()  # Ensure prepare_dataset returns test_path\n",
        "    model, class_names, history = build_and_train_model(train_path, val_path, test_path)\n",
        "\n",
        "\n",
        "\n",
        "\n",
        "\n"
      ],
      "metadata": {
        "colab": {
          "base_uri": "https://localhost:8080/",
          "height": 1000
        },
        "id": "6lG9P42y-l-6",
        "outputId": "f7942561-7633-4c83-cc0d-6dd6e611d161"
      },
      "execution_count": 10,
      "outputs": [
        {
          "output_type": "stream",
          "name": "stdout",
          "text": [
            "Drive already mounted at /content/drive; to attempt to forcibly remount, call drive.mount(\"/content/drive\", force_remount=True).\n",
            "Extracted files/folders: ['train', 'TrashType_Image_Dataset', 'val', 'test']\n",
            "Found 1766 images belonging to 6 classes.\n",
            "Found 505 images belonging to 6 classes.\n",
            "Found 256 images belonging to 6 classes.\n"
          ]
        },
        {
          "output_type": "display_data",
          "data": {
            "text/plain": [
              "<Figure size 1200x600 with 1 Axes>"
            ],
            "image/png": "[encoded data removed]"
          },
          "metadata": {}
        },
        {
          "output_type": "stream",
          "name": "stderr",
          "text": [
            "/usr/local/lib/python3.11/dist-packages/keras/src/trainers/data_adapters/py_dataset_adapter.py:121: UserWarning: Your `PyDataset` class should call `super().__init__(**kwargs)` in its constructor. `**kwargs` can include `workers`, `use_multiprocessing`, `max_queue_size`. Do not pass these arguments to `fit()`, as they will be ignored.\n",
            "  self._warn_if_super_not_called()\n"
          ]
        },
        {
          "output_type": "stream",
          "name": "stdout",
          "text": [
            "Epoch 1/20\n",
            "\u001b[1m55/55\u001b[0m \u001b[32m━━━━━━━━━━━━━━━━━━━━\u001b[0m\u001b[37m\u001b[0m \u001b[1m113s\u001b[0m 2s/step - accuracy: 0.4325 - loss: 1.7268 - val_accuracy: 0.7271 - val_loss: 0.6923\n",
            "Epoch 2/20\n",
            "\u001b[1m 1/55\u001b[0m \u001b[37m━━━━━━━━━━━━━━━━━━━━\u001b[0m \u001b[1m1:34\u001b[0m 2s/step - accuracy: 0.7500 - loss: 0.7108"
          ]
        },
        {
          "output_type": "stream",
          "name": "stderr",
          "text": [
            "/usr/local/lib/python3.11/dist-packages/keras/src/trainers/epoch_iterator.py:107: UserWarning: Your input ran out of data; interrupting training. Make sure that your dataset or generator can generate at least `steps_per_epoch * epochs` batches. You may need to use the `.repeat()` function when building your dataset.\n",
            "  self._interrupted_warning()\n"
          ]
        },
        {
          "output_type": "stream",
          "name": "stdout",
          "text": [
            "\b\b\b\b\b\b\b\b\b\b\b\b\b\b\b\b\b\b\b\b\b\b\b\b\b\b\b\b\b\b\b\b\b\b\b\b\b\b\b\b\b\b\b\b\b\b\b\b\b\b\b\b\b\b\b\b\b\b\b\b\b\b\b\b\b\b\b\b\b\b\b\b\b\r\u001b[1m55/55\u001b[0m \u001b[32m━━━━━━━━━━━━━━━━━━━━\u001b[0m\u001b[37m\u001b[0m \u001b[1m20s\u001b[0m 346ms/step - accuracy: 0.7500 - loss: 0.7108 - val_accuracy: 0.7437 - val_loss: 0.6787\n",
            "Epoch 3/20\n",
            "\u001b[1m55/55\u001b[0m \u001b[32m━━━━━━━━━━━━━━━━━━━━\u001b[0m\u001b[37m\u001b[0m \u001b[1m142s\u001b[0m 2s/step - accuracy: 0.6843 - loss: 0.8361 - val_accuracy: 0.8083 - val_loss: 0.4901\n",
            "Epoch 4/20\n",
            "\u001b[1m55/55\u001b[0m \u001b[32m━━━━━━━━━━━━━━━━━━━━\u001b[0m\u001b[37m\u001b[0m \u001b[1m22s\u001b[0m 397ms/step - accuracy: 0.5625 - loss: 1.0212 - val_accuracy: 0.8167 - val_loss: 0.5010\n",
            "Epoch 5/20\n",
            "\u001b[1m55/55\u001b[0m \u001b[32m━━━━━━━━━━━━━━━━━━━━\u001b[0m\u001b[37m\u001b[0m \u001b[1m202s\u001b[0m 3s/step - accuracy: 0.6984 - loss: 0.7579 - val_accuracy: 0.8229 - val_loss: 0.4539\n",
            "Epoch 6/20\n",
            "\u001b[1m55/55\u001b[0m \u001b[32m━━━━━━━━━━━━━━━━━━━━\u001b[0m\u001b[37m\u001b[0m \u001b[1m41s\u001b[0m 742ms/step - accuracy: 0.8125 - loss: 0.5877 - val_accuracy: 0.8292 - val_loss: 0.4543\n",
            "Epoch 7/20\n",
            "\u001b[1m55/55\u001b[0m \u001b[32m━━━━━━━━━━━━━━━━━━━━\u001b[0m\u001b[37m\u001b[0m \u001b[1m140s\u001b[0m 2s/step - accuracy: 0.7322 - loss: 0.6756 - val_accuracy: 0.8313 - val_loss: 0.4577\n",
            "Epoch 8/20\n",
            "\u001b[1m55/55\u001b[0m \u001b[32m━━━━━━━━━━━━━━━━━━━━\u001b[0m\u001b[37m\u001b[0m \u001b[1m20s\u001b[0m 350ms/step - accuracy: 0.6250 - loss: 0.9953 - val_accuracy: 0.8271 - val_loss: 0.4656\n",
            "Epoch 9/20\n",
            "\u001b[1m55/55\u001b[0m \u001b[32m━━━━━━━━━━━━━━━━━━━━\u001b[0m\u001b[37m\u001b[0m \u001b[1m159s\u001b[0m 2s/step - accuracy: 0.7378 - loss: 0.6861 - val_accuracy: 0.8313 - val_loss: 0.4486\n",
            "Epoch 10/20\n",
            "\u001b[1m55/55\u001b[0m \u001b[32m━━━━━━━━━━━━━━━━━━━━\u001b[0m\u001b[37m\u001b[0m \u001b[1m18s\u001b[0m 333ms/step - accuracy: 0.5000 - loss: 1.2562 - val_accuracy: 0.8271 - val_loss: 0.4522\n",
            "Epoch 11/20\n",
            "\u001b[1m55/55\u001b[0m \u001b[32m━━━━━━━━━━━━━━━━━━━━\u001b[0m\u001b[37m\u001b[0m \u001b[1m107s\u001b[0m 2s/step - accuracy: 0.7615 - loss: 0.6188 - val_accuracy: 0.8000 - val_loss: 0.4706\n",
            "Epoch 12/20\n",
            "\u001b[1m55/55\u001b[0m \u001b[32m━━━━━━━━━━━━━━━━━━━━\u001b[0m\u001b[37m\u001b[0m \u001b[1m19s\u001b[0m 337ms/step - accuracy: 0.8125 - loss: 0.5337 - val_accuracy: 0.7958 - val_loss: 0.4726\n",
            "Epoch 13/20\n",
            "\u001b[1m55/55\u001b[0m \u001b[32m━━━━━━━━━━━━━━━━━━━━\u001b[0m\u001b[37m\u001b[0m \u001b[1m106s\u001b[0m 2s/step - accuracy: 0.7603 - loss: 0.6577 - val_accuracy: 0.8583 - val_loss: 0.4260\n",
            "Epoch 14/20\n",
            "\u001b[1m55/55\u001b[0m \u001b[32m━━━━━━━━━━━━━━━━━━━━\u001b[0m\u001b[37m\u001b[0m \u001b[1m20s\u001b[0m 344ms/step - accuracy: 0.9688 - loss: 0.2898 - val_accuracy: 0.8500 - val_loss: 0.4296\n",
            "Epoch 15/20\n",
            "\u001b[1m55/55\u001b[0m \u001b[32m━━━━━━━━━━━━━━━━━━━━\u001b[0m\u001b[37m\u001b[0m \u001b[1m119s\u001b[0m 2s/step - accuracy: 0.7728 - loss: 0.5869 - val_accuracy: 0.8562 - val_loss: 0.4175\n",
            "Epoch 16/20\n",
            "\u001b[1m55/55\u001b[0m \u001b[32m━━━━━━━━━━━━━━━━━━━━\u001b[0m\u001b[37m\u001b[0m \u001b[1m20s\u001b[0m 361ms/step - accuracy: 0.7812 - loss: 0.6240 - val_accuracy: 0.8562 - val_loss: 0.4091\n",
            "Epoch 17/20\n",
            "\u001b[1m55/55\u001b[0m \u001b[32m━━━━━━━━━━━━━━━━━━━━\u001b[0m\u001b[37m\u001b[0m \u001b[1m141s\u001b[0m 3s/step - accuracy: 0.7934 - loss: 0.5374 - val_accuracy: 0.8562 - val_loss: 0.4049\n",
            "Epoch 18/20\n",
            "\u001b[1m55/55\u001b[0m \u001b[32m━━━━━━━━━━━━━━━━━━━━\u001b[0m\u001b[37m\u001b[0m \u001b[1m20s\u001b[0m 358ms/step - accuracy: 0.7812 - loss: 0.6560 - val_accuracy: 0.8500 - val_loss: 0.4049\n",
            "Epoch 19/20\n",
            "\u001b[1m55/55\u001b[0m \u001b[32m━━━━━━━━━━━━━━━━━━━━\u001b[0m\u001b[37m\u001b[0m \u001b[1m203s\u001b[0m 3s/step - accuracy: 0.8366 - loss: 0.4784 - val_accuracy: 0.8292 - val_loss: 0.4554\n",
            "Epoch 20/20\n",
            "\u001b[1m55/55\u001b[0m \u001b[32m━━━━━━━━━━━━━━━━━━━━\u001b[0m\u001b[37m\u001b[0m \u001b[1m41s\u001b[0m 725ms/step - accuracy: 0.8438 - loss: 0.5444 - val_accuracy: 0.8146 - val_loss: 0.4696\n",
            "\u001b[1m56/56\u001b[0m \u001b[32m━━━━━━━━━━━━━━━━━━━━\u001b[0m\u001b[37m\u001b[0m \u001b[1m89s\u001b[0m 2s/step - accuracy: 0.8708 - loss: 0.3917\n",
            "\u001b[1m16/16\u001b[0m \u001b[32m━━━━━━━━━━━━━━━━━━━━\u001b[0m\u001b[37m\u001b[0m \u001b[1m20s\u001b[0m 1s/step - accuracy: 0.7966 - loss: 0.4974\n",
            "\n",
            "Model Performance:\n",
            "Training Accuracy: 87.88%\n",
            "Training Loss: 0.3758\n",
            "Validation Accuracy: 80.40%\n",
            "Validation Loss: 0.4958\n"
          ]
        }
      ]
    },
    {
      "cell_type": "code",
      "source": [
        "import gradio as gr\n",
        "import numpy as np\n",
        "from tensorflow.keras.models import load_model\n",
        "from tensorflow.keras.preprocessing import image\n",
        "from PIL import Image  # Import PIL for image handling\n",
        "\n",
        "# Load the trained model and class names\n",
        "model = load_model('garbage_classifier_final.keras')\n",
        "with open('class_names.txt', 'r') as f:\n",
        "    class_names = [line.strip() for line in f]\n",
        "\n",
        "def preprocess_image(img):\n",
        "    \"\"\"Preprocess the uploaded image for the model\"\"\"\n",
        "    img = img.resize((224, 224))  # Resize to match model input\n",
        "    img_array = image.img_to_array(img) / 255.0  # Normalize\n",
        "    return np.expand_dims(img_array, axis=0)  # Add batch dimension\n",
        "\n",
        "def predict(image):\n",
        "    \"\"\"Make prediction on the input image\"\"\"\n",
        "    processed_img = preprocess_image(image)\n",
        "    predictions = model.predict(processed_img)\n",
        "    predicted_class = class_names[np.argmax(predictions)]\n",
        "    confidence = float(np.max(predictions)) * 100  # Convert to percentage\n",
        "\n",
        "    # Return a dictionary for better display\n",
        "    return {class_names[i]: float(predictions[0][i]) * 100\n",
        "            for i in range(len(class_names))}\n",
        "\n",
        "# Create Gradio interface with updated syntax\n",
        "iface = gr.Interface(\n",
        "    fn=predict,\n",
        "    inputs=gr.Image(type=\"pil\", label=\"Upload Garbage Image\"),\n",
        "    outputs=gr.Label(label=\"Classification Results\"),\n",
        "    title=\"♻️ Garbage Classification AI 🚮\",\n",
        "    description=\"Upload an image of garbage to classify it into one of these categories: \" + \", \".join(class_names),\n",
        "    examples=[\n",
        "        [\"plastic_bottle.jpg\"],\n",
        "        [\"cardboard_box.jpg\"],\n",
        "    ],\n",
        "    allow_flagging=\"never\"\n",
        ")\n",
        "\n",
        "# Launch the interface\n",
        "if __name__ == \"__main__\":\n",
        "    iface.launch(share=True)  # share=True generates a public link\n",
        "\n"
      ],
      "metadata": {
        "colab": {
          "base_uri": "https://localhost:8080/",
          "height": 646
        },
        "id": "eBCK6PljJ3cj",
        "outputId": "ccd0e403-9a08-4da3-fa9a-a009a2669f78"
      },
      "execution_count": 11,
      "outputs": [
        {
          "output_type": "stream",
          "name": "stderr",
          "text": [
            "/usr/local/lib/python3.11/dist-packages/gradio/interface.py:416: UserWarning: The `allow_flagging` parameter in `Interface` is deprecated.Use `flagging_mode` instead.\n",
            "  warnings.warn(\n"
          ]
        },
        {
          "output_type": "stream",
          "name": "stdout",
          "text": [
            "Colab notebook detected. To show errors in colab notebook, set debug=True in launch()\n",
            "* Running on public URL: https://d800ce53876d018c12.gradio.live\n",
            "\n",
            "This share link expires in 1 week. For free permanent hosting and GPU upgrades, run `gradio deploy` from the terminal in the working directory to deploy to Hugging Face Spaces (https://huggingface.co/spaces)\n"
          ]
        },
        {
          "output_type": "display_data",
          "data": {
            "text/plain": [
              "<IPython.core.display.HTML object>"
            ],
            "text/html": [
              "<div><iframe src=\"https://d800ce53876d018c12.gradio.live\" width=\"100%\" height=\"500\" allow=\"autoplay; camera; microphone; clipboard-read; clipboard-write;\" frameborder=\"0\" allowfullscreen></iframe></div>"
            ]
          },
          "metadata": {}
        }
      ]
    },
    {
      "cell_type": "code",
      "source": [
        "# 📝 Summary (optional but useful)\n",
        "model.summary()"
      ],
      "metadata": {
        "id": "li_TsUPgSqjI",
        "colab": {
          "base_uri": "https://localhost:8080/",
          "height": 413
        },
        "outputId": "4bd1ec25-44c0-4a2e-ba4f-395a90be105f"
      },
      "execution_count": 12,
      "outputs": [
        {
          "output_type": "display_data",
          "data": {
            "text/plain": [
              "\u001b[1mModel: \"functional_1\"\u001b[0m\n"
            ],
            "text/html": [
              "<pre style=\"white-space:pre;overflow-x:auto;line-height:normal;font-family:Menlo,'DejaVu Sans Mono',consolas,'Courier New',monospace\"><span style=\"font-weight: bold\">Model: \"functional_1\"</span>\n",
              "</pre>\n"
            ]
          },
          "metadata": {}
        },
        {
          "output_type": "display_data",
          "data": {
            "text/plain": [
              "┏━━━━━━━━━━━━━━━━━━━━━━━━━━━━━━━━━┳━━━━━━━━━━━━━━━━━━━━━━━━┳━━━━━━━━━━━━━━━┓\n",
              "┃\u001b[1m \u001b[0m\u001b[1mLayer (type)                   \u001b[0m\u001b[1m \u001b[0m┃\u001b[1m \u001b[0m\u001b[1mOutput Shape          \u001b[0m\u001b[1m \u001b[0m┃\u001b[1m \u001b[0m\u001b[1m      Param #\u001b[0m\u001b[1m \u001b[0m┃\n",
              "┡━━━━━━━━━━━━━━━━━━━━━━━━━━━━━━━━━╇━━━━━━━━━━━━━━━━━━━━━━━━╇━━━━━━━━━━━━━━━┩\n",
              "│ input_layer_3 (\u001b[38;5;33mInputLayer\u001b[0m)      │ (\u001b[38;5;45mNone\u001b[0m, \u001b[38;5;34m224\u001b[0m, \u001b[38;5;34m224\u001b[0m, \u001b[38;5;34m3\u001b[0m)    │             \u001b[38;5;34m0\u001b[0m │\n",
              "├─────────────────────────────────┼────────────────────────┼───────────────┤\n",
              "│ mobilenetv2_1.00_224            │ (\u001b[38;5;45mNone\u001b[0m, \u001b[38;5;34m7\u001b[0m, \u001b[38;5;34m7\u001b[0m, \u001b[38;5;34m1280\u001b[0m)     │     \u001b[38;5;34m2,257,984\u001b[0m │\n",
              "│ (\u001b[38;5;33mFunctional\u001b[0m)                    │                        │               │\n",
              "├─────────────────────────────────┼────────────────────────┼───────────────┤\n",
              "│ global_average_pooling2d_1      │ (\u001b[38;5;45mNone\u001b[0m, \u001b[38;5;34m1280\u001b[0m)           │             \u001b[38;5;34m0\u001b[0m │\n",
              "│ (\u001b[38;5;33mGlobalAveragePooling2D\u001b[0m)        │                        │               │\n",
              "├─────────────────────────────────┼────────────────────────┼───────────────┤\n",
              "│ dropout_2 (\u001b[38;5;33mDropout\u001b[0m)             │ (\u001b[38;5;45mNone\u001b[0m, \u001b[38;5;34m1280\u001b[0m)           │             \u001b[38;5;34m0\u001b[0m │\n",
              "├─────────────────────────────────┼────────────────────────┼───────────────┤\n",
              "│ dense_2 (\u001b[38;5;33mDense\u001b[0m)                 │ (\u001b[38;5;45mNone\u001b[0m, \u001b[38;5;34m512\u001b[0m)            │       \u001b[38;5;34m655,872\u001b[0m │\n",
              "├─────────────────────────────────┼────────────────────────┼───────────────┤\n",
              "│ dropout_3 (\u001b[38;5;33mDropout\u001b[0m)             │ (\u001b[38;5;45mNone\u001b[0m, \u001b[38;5;34m512\u001b[0m)            │             \u001b[38;5;34m0\u001b[0m │\n",
              "├─────────────────────────────────┼────────────────────────┼───────────────┤\n",
              "│ dense_3 (\u001b[38;5;33mDense\u001b[0m)                 │ (\u001b[38;5;45mNone\u001b[0m, \u001b[38;5;34m6\u001b[0m)              │         \u001b[38;5;34m3,078\u001b[0m │\n",
              "└─────────────────────────────────┴────────────────────────┴───────────────┘\n"
            ],
            "text/html": [
              "<pre style=\"white-space:pre;overflow-x:auto;line-height:normal;font-family:Menlo,'DejaVu Sans Mono',consolas,'Courier New',monospace\">┏━━━━━━━━━━━━━━━━━━━━━━━━━━━━━━━━━┳━━━━━━━━━━━━━━━━━━━━━━━━┳━━━━━━━━━━━━━━━┓\n",
              "┃<span style=\"font-weight: bold\"> Layer (type)                    </span>┃<span style=\"font-weight: bold\"> Output Shape           </span>┃<span style=\"font-weight: bold\">       Param # </span>┃\n",
              "┡━━━━━━━━━━━━━━━━━━━━━━━━━━━━━━━━━╇━━━━━━━━━━━━━━━━━━━━━━━━╇━━━━━━━━━━━━━━━┩\n",
              "│ input_layer_3 (<span style=\"color: #0087ff; text-decoration-color: #0087ff\">InputLayer</span>)      │ (<span style=\"color: #00d7ff; text-decoration-color: #00d7ff\">None</span>, <span style=\"color: #00af00; text-decoration-color: #00af00\">224</span>, <span style=\"color: #00af00; text-decoration-color: #00af00\">224</span>, <span style=\"color: #00af00; text-decoration-color: #00af00\">3</span>)    │             <span style=\"color: #00af00; text-decoration-color: #00af00\">0</span> │\n",
              "├─────────────────────────────────┼────────────────────────┼───────────────┤\n",
              "│ mobilenetv2_1.00_224            │ (<span style=\"color: #00d7ff; text-decoration-color: #00d7ff\">None</span>, <span style=\"color: #00af00; text-decoration-color: #00af00\">7</span>, <span style=\"color: #00af00; text-decoration-color: #00af00\">7</span>, <span style=\"color: #00af00; text-decoration-color: #00af00\">1280</span>)     │     <span style=\"color: #00af00; text-decoration-color: #00af00\">2,257,984</span> │\n",
              "│ (<span style=\"color: #0087ff; text-decoration-color: #0087ff\">Functional</span>)                    │                        │               │\n",
              "├─────────────────────────────────┼────────────────────────┼───────────────┤\n",
              "│ global_average_pooling2d_1      │ (<span style=\"color: #00d7ff; text-decoration-color: #00d7ff\">None</span>, <span style=\"color: #00af00; text-decoration-color: #00af00\">1280</span>)           │             <span style=\"color: #00af00; text-decoration-color: #00af00\">0</span> │\n",
              "│ (<span style=\"color: #0087ff; text-decoration-color: #0087ff\">GlobalAveragePooling2D</span>)        │                        │               │\n",
              "├─────────────────────────────────┼────────────────────────┼───────────────┤\n",
              "│ dropout_2 (<span style=\"color: #0087ff; text-decoration-color: #0087ff\">Dropout</span>)             │ (<span style=\"color: #00d7ff; text-decoration-color: #00d7ff\">None</span>, <span style=\"color: #00af00; text-decoration-color: #00af00\">1280</span>)           │             <span style=\"color: #00af00; text-decoration-color: #00af00\">0</span> │\n",
              "├─────────────────────────────────┼────────────────────────┼───────────────┤\n",
              "│ dense_2 (<span style=\"color: #0087ff; text-decoration-color: #0087ff\">Dense</span>)                 │ (<span style=\"color: #00d7ff; text-decoration-color: #00d7ff\">None</span>, <span style=\"color: #00af00; text-decoration-color: #00af00\">512</span>)            │       <span style=\"color: #00af00; text-decoration-color: #00af00\">655,872</span> │\n",
              "├─────────────────────────────────┼────────────────────────┼───────────────┤\n",
              "│ dropout_3 (<span style=\"color: #0087ff; text-decoration-color: #0087ff\">Dropout</span>)             │ (<span style=\"color: #00d7ff; text-decoration-color: #00d7ff\">None</span>, <span style=\"color: #00af00; text-decoration-color: #00af00\">512</span>)            │             <span style=\"color: #00af00; text-decoration-color: #00af00\">0</span> │\n",
              "├─────────────────────────────────┼────────────────────────┼───────────────┤\n",
              "│ dense_3 (<span style=\"color: #0087ff; text-decoration-color: #0087ff\">Dense</span>)                 │ (<span style=\"color: #00d7ff; text-decoration-color: #00d7ff\">None</span>, <span style=\"color: #00af00; text-decoration-color: #00af00\">6</span>)              │         <span style=\"color: #00af00; text-decoration-color: #00af00\">3,078</span> │\n",
              "└─────────────────────────────────┴────────────────────────┴───────────────┘\n",
              "</pre>\n"
            ]
          },
          "metadata": {}
        },
        {
          "output_type": "display_data",
          "data": {
            "text/plain": [
              "\u001b[1m Total params: \u001b[0m\u001b[38;5;34m4,234,836\u001b[0m (16.15 MB)\n"
            ],
            "text/html": [
              "<pre style=\"white-space:pre;overflow-x:auto;line-height:normal;font-family:Menlo,'DejaVu Sans Mono',consolas,'Courier New',monospace\"><span style=\"font-weight: bold\"> Total params: </span><span style=\"color: #00af00; text-decoration-color: #00af00\">4,234,836</span> (16.15 MB)\n",
              "</pre>\n"
            ]
          },
          "metadata": {}
        },
        {
          "output_type": "display_data",
          "data": {
            "text/plain": [
              "\u001b[1m Trainable params: \u001b[0m\u001b[38;5;34m658,950\u001b[0m (2.51 MB)\n"
            ],
            "text/html": [
              "<pre style=\"white-space:pre;overflow-x:auto;line-height:normal;font-family:Menlo,'DejaVu Sans Mono',consolas,'Courier New',monospace\"><span style=\"font-weight: bold\"> Trainable params: </span><span style=\"color: #00af00; text-decoration-color: #00af00\">658,950</span> (2.51 MB)\n",
              "</pre>\n"
            ]
          },
          "metadata": {}
        },
        {
          "output_type": "display_data",
          "data": {
            "text/plain": [
              "\u001b[1m Non-trainable params: \u001b[0m\u001b[38;5;34m2,257,984\u001b[0m (8.61 MB)\n"
            ],
            "text/html": [
              "<pre style=\"white-space:pre;overflow-x:auto;line-height:normal;font-family:Menlo,'DejaVu Sans Mono',consolas,'Courier New',monospace\"><span style=\"font-weight: bold\"> Non-trainable params: </span><span style=\"color: #00af00; text-decoration-color: #00af00\">2,257,984</span> (8.61 MB)\n",
              "</pre>\n"
            ]
          },
          "metadata": {}
        },
        {
          "output_type": "display_data",
          "data": {
            "text/plain": [
              "\u001b[1m Optimizer params: \u001b[0m\u001b[38;5;34m1,317,902\u001b[0m (5.03 MB)\n"
            ],
            "text/html": [
              "<pre style=\"white-space:pre;overflow-x:auto;line-height:normal;font-family:Menlo,'DejaVu Sans Mono',consolas,'Courier New',monospace\"><span style=\"font-weight: bold\"> Optimizer params: </span><span style=\"color: #00af00; text-decoration-color: #00af00\">1,317,902</span> (5.03 MB)\n",
              "</pre>\n"
            ]
          },
          "metadata": {}
        }
      ]
    },
    {
      "cell_type": "code",
      "source": [],
      "metadata": {
        "id": "UABe8vtXYBOJ"
      },
      "execution_count": 12,
      "outputs": []
    }
  ]
}